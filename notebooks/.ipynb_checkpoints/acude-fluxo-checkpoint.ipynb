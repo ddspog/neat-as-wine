{
 "cells": [
  {
   "cell_type": "code",
   "execution_count": 101,
   "metadata": {
    "collapsed": true
   },
   "outputs": [],
   "source": [
    "process.chdir(\"G:\\\\src\\\\github.com\\\\ddspog\\\\neat-as-wine\");"
   ]
  },
  {
   "cell_type": "code",
   "execution_count": 102,
   "metadata": {},
   "outputs": [
    {
     "name": "stdout",
     "output_type": "stream",
     "text": [
      "Loaded DOM and packages.\n"
     ]
    }
   ],
   "source": [
    "require('jsdom-global')(`<!DOCTYPE html><body><div id=\"chart\"></div></body></html>`, {\n",
    "    beforeParse(window) {\n",
    "        window.Element.prototype.getComputedTextLength = function() {\n",
    "          return 60.0\n",
    "        }\n",
    "    }\n",
    "});\n",
    "\n",
    "site = () => document.documentElement.innerHTML;\n",
    "\n",
    "d3 = require('d3');\n",
    "fs = require('fs');\n",
    "request = require('request');\n",
    "papa = require('papaparse');\n",
    "\n",
    "console.log(\"Loaded DOM and packages.\");"
   ]
  },
  {
   "cell_type": "code",
   "execution_count": 103,
   "metadata": {},
   "outputs": [
    {
     "name": "stdout",
     "output_type": "stream",
     "text": [
      "Data URL loaded.\n"
     ]
    }
   ],
   "source": [
    "dataURL = \"https://gist.githubusercontent.com/ddspog/eb2a48f10c1107411acd264112dc5845/raw/67c21c968fc5b2fd8643704fc3e927eeaed04e81/labrua_acude-velho.csv\";\n",
    "console.log(\"Data URL loaded.\");"
   ]
  },
  {
   "cell_type": "code",
   "execution_count": 104,
   "metadata": {},
   "outputs": [
    {
     "name": "stdout",
     "output_type": "stream",
     "text": [
      "Fixed layout loaded.\n"
     ]
    }
   ],
   "source": [
    "svg = d3.select('#chart')\n",
    "    .classed('chart', true)\n",
    "    .append('svg')\n",
    "    .attr('width', 960)\n",
    "    .attr('height', 500);\n",
    "margin = {top: 20, right: 20, bottom: 30, left: 50},\n",
    "width = +svg.attr(\"width\") - margin.left - margin.right,\n",
    "height = +svg.attr(\"height\") - margin.top - margin.bottom,\n",
    "g = svg.append(\"g\").attr(\"transform\", \"translate(\" + margin.left + \",\" + margin.top + \")\");\n",
    "\n",
    "console.log(\"Fixed layout loaded.\");"
   ]
  },
  {
   "cell_type": "code",
   "execution_count": 105,
   "metadata": {},
   "outputs": [
    {
     "name": "stdout",
     "output_type": "stream",
     "text": [
      "Pre values loaded.\n"
     ]
    }
   ],
   "source": [
    "parseTime = d3.timeParse(\"%H:%M\");\n",
    "\n",
    "x = d3.scaleTime()\n",
    "    .rangeRound([0, width]);\n",
    "\n",
    "y = d3.scaleLinear()\n",
    "    .rangeRound([height, 0]);\n",
    "\n",
    "line = d3.line()\n",
    "    .x(function(d) { return x(d.time); })\n",
    "    .y(function(d) { return y(d.cars); })\n",
    "    .curve(d3.curveBasis);\n",
    "\n",
    "console.log(\"Pre values loaded.\")"
   ]
  },
  {
   "cell_type": "code",
   "execution_count": 106,
   "metadata": {},
   "outputs": [
    {
     "name": "stdout",
     "output_type": "stream",
     "text": [
      "\n",
      "[ 21, 188 ]\n",
      "Finished loading Graph\n"
     ]
    }
   ],
   "source": [
    "d3.csv(dataURL, function(el) {\n",
    "  return {\n",
    "      time: parseTime(el.horario_inicial),\n",
    "      place: el.local,\n",
    "      cars: +el.carros,\n",
    "      bikes: +el.motos,\n",
    "      buses: +el.onibus,\n",
    "      trucks: +el.caminhoes,\n",
    "      cyclists: +el.total_ciclistas,\n",
    "      pedestrians: +el.total_pedestres\n",
    "  };\n",
    "}, function(error, dataAll) {\n",
    "  if (error) throw error;\n",
    "  \n",
    "  data = dataAll.filter(function(d) {\n",
    "       return d.place == \"jackson\";\n",
    "  });\n",
    "    \n",
    "  x.domain(d3.extent(data, function(d) { return d.time; }));\n",
    "  y.domain(d3.extent(data, function(d) { return d.cars; }));\n",
    "\n",
    "  g.append(\"g\")\n",
    "      .attr(\"transform\", \"translate(0,\" + height + \")\")\n",
    "      .call(d3.axisBottom(x))\n",
    "      .select(\".domain\")\n",
    "      .remove();\n",
    "\n",
    "  g.append(\"g\")\n",
    "      .call(d3.axisLeft(y))\n",
    "      .append(\"text\")\n",
    "      .attr(\"fill\", \"#000\")\n",
    "      .attr(\"transform\", \"rotate(-90)\")\n",
    "      .attr(\"y\", 6)\n",
    "      .attr(\"dy\", \"0.71em\")\n",
    "      .attr(\"text-anchor\", \"end\")\n",
    "      .text(\"Unidades\");\n",
    "\n",
    "  g.append(\"path\")\n",
    "      .datum(data)\n",
    "      .attr(\"fill\", \"none\")\n",
    "      .attr(\"stroke\", \"steelblue\")\n",
    "      .attr(\"stroke-linejoin\", \"round\")\n",
    "      .attr(\"stroke-linecap\", \"round\")\n",
    "      .attr(\"stroke-width\", 1.5)\n",
    "      .attr(\"d\", line);\n",
    "    \n",
    "  console.log(\"Finished loading Graph\");\n",
    "});\n",
    "\n",
    "console.log(\"\");"
   ]
  },
  {
   "cell_type": "code",
   "execution_count": 107,
   "metadata": {},
   "outputs": [
    {
     "data": {
      "text/html": [
       "<head></head><body><div id=\"chart\" class=\"chart\"><svg width=\"960\" height=\"500\"><g transform=\"translate(50,20)\"><g transform=\"translate(0,450)\" fill=\"none\" font-size=\"10\" font-family=\"sans-serif\" text-anchor=\"middle\"><g class=\"tick\" opacity=\"1\" transform=\"translate(0.5,0)\"><line stroke=\"#000\" y2=\"6\"></line><text fill=\"#000\" y=\"9\" dy=\"0.71em\">06 AM</text></g><g class=\"tick\" opacity=\"1\" transform=\"translate(60.5,0)\"><line stroke=\"#000\" y2=\"6\"></line><text fill=\"#000\" y=\"9\" dy=\"0.71em\">07 AM</text></g><g class=\"tick\" opacity=\"1\" transform=\"translate(121.5,0)\"><line stroke=\"#000\" y2=\"6\"></line><text fill=\"#000\" y=\"9\" dy=\"0.71em\">08 AM</text></g><g class=\"tick\" opacity=\"1\" transform=\"translate(181.5,0)\"><line stroke=\"#000\" y2=\"6\"></line><text fill=\"#000\" y=\"9\" dy=\"0.71em\">09 AM</text></g><g class=\"tick\" opacity=\"1\" transform=\"translate(241.5,0)\"><line stroke=\"#000\" y2=\"6\"></line><text fill=\"#000\" y=\"9\" dy=\"0.71em\">10 AM</text></g><g class=\"tick\" opacity=\"1\" transform=\"translate(302.5,0)\"><line stroke=\"#000\" y2=\"6\"></line><text fill=\"#000\" y=\"9\" dy=\"0.71em\">11 AM</text></g><g class=\"tick\" opacity=\"1\" transform=\"translate(362.5,0)\"><line stroke=\"#000\" y2=\"6\"></line><text fill=\"#000\" y=\"9\" dy=\"0.71em\">12 PM</text></g><g class=\"tick\" opacity=\"1\" transform=\"translate(422.5,0)\"><line stroke=\"#000\" y2=\"6\"></line><text fill=\"#000\" y=\"9\" dy=\"0.71em\">01 PM</text></g><g class=\"tick\" opacity=\"1\" transform=\"translate(483.5,0)\"><line stroke=\"#000\" y2=\"6\"></line><text fill=\"#000\" y=\"9\" dy=\"0.71em\">02 PM</text></g><g class=\"tick\" opacity=\"1\" transform=\"translate(543.5,0)\"><line stroke=\"#000\" y2=\"6\"></line><text fill=\"#000\" y=\"9\" dy=\"0.71em\">03 PM</text></g><g class=\"tick\" opacity=\"1\" transform=\"translate(603.5,0)\"><line stroke=\"#000\" y2=\"6\"></line><text fill=\"#000\" y=\"9\" dy=\"0.71em\">04 PM</text></g><g class=\"tick\" opacity=\"1\" transform=\"translate(664.5,0)\"><line stroke=\"#000\" y2=\"6\"></line><text fill=\"#000\" y=\"9\" dy=\"0.71em\">05 PM</text></g><g class=\"tick\" opacity=\"1\" transform=\"translate(724.5,0)\"><line stroke=\"#000\" y2=\"6\"></line><text fill=\"#000\" y=\"9\" dy=\"0.71em\">06 PM</text></g><g class=\"tick\" opacity=\"1\" transform=\"translate(784.5,0)\"><line stroke=\"#000\" y2=\"6\"></line><text fill=\"#000\" y=\"9\" dy=\"0.71em\">07 PM</text></g><g class=\"tick\" opacity=\"1\" transform=\"translate(845.5,0)\"><line stroke=\"#000\" y2=\"6\"></line><text fill=\"#000\" y=\"9\" dy=\"0.71em\">08 PM</text></g></g><g fill=\"none\" font-size=\"10\" font-family=\"sans-serif\" text-anchor=\"end\"><path class=\"domain\" stroke=\"#000\" d=\"M-6,450.5H0.5V0.5H-6\"></path><g class=\"tick\" opacity=\"1\" transform=\"translate(0,399.5)\"><line stroke=\"#000\" x2=\"-6\"></line><text fill=\"#000\" x=\"-9\" dy=\"0.32em\">40</text></g><g class=\"tick\" opacity=\"1\" transform=\"translate(0,345.5)\"><line stroke=\"#000\" x2=\"-6\"></line><text fill=\"#000\" x=\"-9\" dy=\"0.32em\">60</text></g><g class=\"tick\" opacity=\"1\" transform=\"translate(0,291.5)\"><line stroke=\"#000\" x2=\"-6\"></line><text fill=\"#000\" x=\"-9\" dy=\"0.32em\">80</text></g><g class=\"tick\" opacity=\"1\" transform=\"translate(0,237.5)\"><line stroke=\"#000\" x2=\"-6\"></line><text fill=\"#000\" x=\"-9\" dy=\"0.32em\">100</text></g><g class=\"tick\" opacity=\"1\" transform=\"translate(0,183.5)\"><line stroke=\"#000\" x2=\"-6\"></line><text fill=\"#000\" x=\"-9\" dy=\"0.32em\">120</text></g><g class=\"tick\" opacity=\"1\" transform=\"translate(0,129.5)\"><line stroke=\"#000\" x2=\"-6\"></line><text fill=\"#000\" x=\"-9\" dy=\"0.32em\">140</text></g><g class=\"tick\" opacity=\"1\" transform=\"translate(0,75.5)\"><line stroke=\"#000\" x2=\"-6\"></line><text fill=\"#000\" x=\"-9\" dy=\"0.32em\">160</text></g><g class=\"tick\" opacity=\"1\" transform=\"translate(0,22.5)\"><line stroke=\"#000\" x2=\"-6\"></line><text fill=\"#000\" x=\"-9\" dy=\"0.32em\">180</text></g><text fill=\"#000\" transform=\"rotate(-90)\" y=\"6\" dy=\"0.71em\" text-anchor=\"end\">Unidades</text></g><path fill=\"none\" stroke=\"steelblue\" stroke-linejoin=\"round\" stroke-linecap=\"round\" stroke-width=\"1.5\" d=\"M0,450L2.5,446C5,442,10,434,15,420C20,406,25,386,30,354C35,322,40,278,45,249.83333333333334C50,221.66666666666666,55,209.33333333333334,60,205.83333333333334C65,202.33333333333334,70,207.66666666666666,75.16666666666667,203.16666666666666C80.33333333333333,198.66666666666666,85.66666666666667,184.33333333333334,90.83333333333333,171.33333333333334C96,158.33333333333334,101,146.66666666666666,106,147.5C111,148.33333333333334,116,161.66666666666666,121,164.33333333333334C126,167,131,159,136,150C141,141,146,131,151,129.66666666666666C156,128.33333333333334,161,135.66666666666666,166,145.66666666666666C171,155.66666666666666,176,168.33333333333334,181,169.66666666666666C186,171,191,161,196,160C201,159,206,167,211,162.5C216,158,221,141,226,138.83333333333334C231,136.66666666666666,236,149.33333333333334,241,162.33333333333334C246,175.33333333333334,251,188.66666666666666,256.1666666666667,179.16666666666666C261.3333333333333,169.66666666666666,266.6666666666667,137.33333333333334,271.8333333333333,122C277,106.66666666666667,282,108.33333333333333,287,116.83333333333333C292,125.33333333333333,297,140.66666666666666,302,144.33333333333334C307,148,312,140,317,123C322,106,327,80,332,75C337,70,342,86,347,85.5C352,85,357,68,362,65.83333333333333C367,63.666666666666664,372,76.33333333333333,377,100.16666666666667C382,124,387,159,392,175.66666666666666C397,192.33333333333334,402,190.66666666666666,407,183C412,175.33333333333334,417,161.66666666666666,422,151.66666666666666C427,141.66666666666666,432,135.33333333333334,437.1666666666667,137.66666666666666C442.3333333333333,140,447.6666666666667,151,452.8333333333333,146.16666666666666C458,141.33333333333334,463,120.66666666666667,468,105.33333333333333C473,90,478,80,483,80.83333333333333C488,81.66666666666667,493,93.33333333333333,498,108.16666666666667C503,123,508,141,513,145.5C518,150,523,141,528,140.16666666666666C533,139.33333333333334,538,146.66666666666666,543,137.16666666666666C548,127.66666666666667,553,101.33333333333333,558,105.83333333333333C563,110.33333333333333,568,145.66666666666666,573,152.5C578,159.33333333333334,583,137.66666666666666,588,116.5C593,95.33333333333333,598,74.66666666666667,603,67.83333333333333C608,61,613,68,618.1666666666666,69.83333333333333C623.3333333333334,71.66666666666667,628.6666666666666,68.33333333333333,633.8333333333334,68C639,67.66666666666667,644,70.33333333333333,649,79.66666666666667C654,89,659,105,664,105.33333333333333C669,105.66666666666667,674,90.33333333333333,679,70.16666666666667C684,50,689,25,694,42.666666666666664C699,60.333333333333336,704,120.66666666666667,709,149C714,177.33333333333334,719,173.66666666666666,724,161.83333333333334C729,150,734,130,739,132.16666666666666C744,134.33333333333334,749,158.66666666666666,754,170.5C759,182.33333333333334,764,181.66666666666666,769,182.16666666666666C774,182.66666666666666,779,184.33333333333334,784,193.16666666666666C789,202,794,218,799.1666666666666,236C804.3333333333334,254,809.6666666666666,274,814.8333333333334,286.6666666666667C820,299.3333333333333,825,304.6666666666667,830,293C835,281.3333333333333,840,252.66666666666666,845,255.83333333333334C850,259,855,294,860,311.8333333333333C865,329.6666666666667,870,330.3333333333333,875,320.3333333333333C880,310.3333333333333,885,289.6666666666667,887.5,279.3333333333333L890,269\"></path></g></svg></div></body>"
      ]
     },
     "execution_count": 107,
     "metadata": {},
     "output_type": "execute_result"
    }
   ],
   "source": [
    "$$.html(site())"
   ]
  },
  {
   "cell_type": "code",
   "execution_count": null,
   "metadata": {
    "collapsed": true
   },
   "outputs": [],
   "source": []
  }
 ],
 "metadata": {
  "kernelspec": {
   "display_name": "Javascript (Node.js)",
   "language": "javascript",
   "name": "javascript"
  },
  "language_info": {
   "file_extension": ".js",
   "mimetype": "application/javascript",
   "name": "javascript",
   "version": "8.9.3"
  }
 },
 "nbformat": 4,
 "nbformat_minor": 2
}
