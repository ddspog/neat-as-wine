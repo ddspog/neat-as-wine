{
 "cells": [
  {
   "cell_type": "code",
   "execution_count": 145,
   "metadata": {
    "collapsed": true
   },
   "outputs": [],
   "source": [
    "process.chdir(\"G:\\\\src\\\\github.com\\\\ddspog\\\\neat-as-wine\")"
   ]
  },
  {
   "cell_type": "code",
   "execution_count": 234,
   "metadata": {},
   "outputs": [
    {
     "name": "stdout",
     "output_type": "stream",
     "text": [
      "Loaded DOM and packages.\n"
     ]
    }
   ],
   "source": [
    "require('jsdom-global')(`<!DOCTYPE html><body><div id=\"chart\"></div></body></html>`, {\n",
    "    beforeParse(window) {\n",
    "        window.Element.prototype.getComputedTextLength = function() {\n",
    "          return 60.0\n",
    "        }\n",
    "    }\n",
    "});\n",
    "\n",
    "site = () => document.documentElement.innerHTML;\n",
    "\n",
    "d3 = require('d3')\n",
    "L = require('leaflet');\n",
    "fs = require('fs');\n",
    "papa = require('papaparse');\n",
    "kit = require('ddspog-d3-kit');\n",
    "\n",
    "console.log(\"Loaded DOM and packages.\");"
   ]
  },
  {
   "cell_type": "code",
   "execution_count": 249,
   "metadata": {},
   "outputs": [
    {
     "data": {
      "text/plain": [
       "[Function: showGraph]"
      ]
     },
     "execution_count": 249,
     "metadata": {},
     "output_type": "execute_result"
    }
   ],
   "source": [
    "showGraph = () => {\n",
    "    fac = new kit.ChartFactory(d3);\n",
    "    fac.createChart('RadarChart', {\n",
    "        id: '#chart',\n",
    "        data: [\n",
    "            [ //iPhone\n",
    "            {axis:\"Battery Life\",value:0.22},\n",
    "            {axis:\"Brand\",value:0.28},\n",
    "            {axis:\"Contract Cost\",value:0.29},\n",
    "            {axis:\"Design And Quality\",value:0.17},\n",
    "            {axis:\"Have Internet Connectivity\",value:0.22},\n",
    "            {axis:\"Large Screen\",value:0.02},\n",
    "            {axis:\"Price Of Device\",value:0.21},\n",
    "            {axis:\"To Be A Smartphone\",value:0.50}\n",
    "          ],[ //Samsung\n",
    "            {axis:\"Battery Life\",value:0.27},\n",
    "            {axis:\"Brand\",value:0.16},\n",
    "            {axis:\"Contract Cost\",value:0.35},\n",
    "            {axis:\"Design And Quality\",value:0.13},\n",
    "            {axis:\"Have Internet Connectivity\",value:0.20},\n",
    "            {axis:\"Large Screen\",value:0.13},\n",
    "            {axis:\"Price Of Device\",value:0.35},\n",
    "            {axis:\"To Be A Smartphone\",value:0.38}\n",
    "          ],[ //Nokia Smartphone\n",
    "            {axis:\"Battery Life\",value:0.26},\n",
    "            {axis:\"Brand\",value:0.10},\n",
    "            {axis:\"Contract Cost\",value:0.30},\n",
    "            {axis:\"Design And Quality\",value:0.14},\n",
    "            {axis:\"Have Internet Connectivity\",value:0.22},\n",
    "            {axis:\"Large Screen\",value:0.04},\n",
    "            {axis:\"Price Of Device\",value:0.41},\n",
    "            {axis:\"To Be A Smartphone\",value:0.30}\n",
    "          ]\n",
    "        ],\n",
    "        w: 900,\n",
    "        h: 700,\n",
    "        maxValue: 0.5,\n",
    "        levels: 5,\n",
    "        roundStrokes: true\n",
    "    });\n",
    "};"
   ]
  },
  {
   "cell_type": "code",
   "execution_count": 250,
   "metadata": {
    "scrolled": true
   },
   "outputs": [
    {
     "ename": "TypeError",
     "evalue": "radarLine.interpolate is not a function",
     "output_type": "error",
     "traceback": [
      "G:\\src\\github.com\\ddspog\\neat-as-wine\\node_modules\\ddspog-d3-kit\\src\\factories\\charts\\radarChart.js:179",
      "        radarLine.interpolate(\"cardinal-closed\");",
      "                  ^",
      "",
      "TypeError: radarLine.interpolate is not a function",
      "    at radarChart (G:\\src\\github.com\\ddspog\\neat-as-wine\\node_modules\\ddspog-d3-kit\\src\\factories\\charts\\radarChart.js:179:19)",
      "    at createRadarChart (G:\\src\\github.com\\ddspog\\neat-as-wine\\node_modules\\ddspog-d3-kit\\src\\factories\\chartFactory.js:33:12)",
      "    at ChartFactory.createChart (G:\\src\\github.com\\ddspog\\neat-as-wine\\node_modules\\ddspog-d3-kit\\src\\factories\\chartFactory.js:13:24)",
      "    at showGraph (evalmachine.<anonymous>:3:9)",
      "    at evalmachine.<anonymous>:1:1",
      "    at ContextifyScript.Script.runInThisContext (vm.js:50:33)",
      "    at Object.runInThisContext (vm.js:139:38)",
      "    at run ([eval]:971:15)",
      "    at onRunRequest ([eval]:798:18)",
      "    at onMessage ([eval]:758:13)"
     ]
    }
   ],
   "source": [
    "showGraph();"
   ]
  },
  {
   "cell_type": "code",
   "execution_count": 243,
   "metadata": {},
   "outputs": [
    {
     "data": {
      "text/html": [
       "<head></head><body><div id=\"chart\"><svg width=\"940\" height=\"740\" class=\"radar#chart\"><g transform=\"translate(470,370)\"><defs><filter id=\"glow\"><fegaussianblur stdDeviation=\"2.5\" result=\"coloredBlur\"></fegaussianblur><femerge><femergenode in=\"coloredBlur\"></femergenode><femergenode in=\"SourceGraphic\"></femergenode></femerge></filter></defs><g class=\"axisWrapper\"><circle class=\"gridCircle\" r=\"350\" style=\"fill: #CDCDCD; stroke: #CDCDCD; fill-opacity: 0.1; filter: url(#glow);\"></circle><circle class=\"gridCircle\" r=\"233.33333333333334\" style=\"fill: #CDCDCD; stroke: #CDCDCD; fill-opacity: 0.1; filter: url(#glow);\"></circle><circle class=\"gridCircle\" r=\"116.66666666666667\" style=\"fill: #CDCDCD; stroke: #CDCDCD; fill-opacity: 0.1; filter: url(#glow);\"></circle><text class=\"axisLabel\" x=\"4\" y=\"-350\" dy=\"0.4em\" style=\"font-size: 10px;\" fill=\"#737373\">50.000000%</text><text class=\"axisLabel\" x=\"4\" y=\"-233.33333333333334\" dy=\"0.4em\" style=\"font-size: 10px;\" fill=\"#737373\">33.333333%</text><text class=\"axisLabel\" x=\"4\" y=\"-116.66666666666667\" dy=\"0.4em\" style=\"font-size: 10px;\" fill=\"#737373\">16.666667%</text><g class=\"axis\"><line x1=\"0\" y1=\"0\" x2=\"2.3574450883586554e-14\" y2=\"-385.00000000000006\" class=\"line\" style=\"stroke: white; stroke-width: 2px;\"></line><text class=\"legend\" style=\"font-size: 11px;\" text-anchor=\"middle\" dy=\"0.35em\" x=\"2.678914873134835e-14\" y=\"-437.5\"><tspan x=\"2.678914873134835e-14\" y=\"-437.5\" dy=\"0.35em\">Battery Life</tspan></text></g><g class=\"axis\"><line x1=\"0\" y1=\"0\" x2=\"272.23611075682084\" y2=\"-272.23611075682084\" class=\"line\" style=\"stroke: white; stroke-width: 2px;\"></line><text class=\"legend\" style=\"font-size: 11px;\" text-anchor=\"middle\" dy=\"0.35em\" x=\"309.35921676911454\" y=\"-309.35921676911454\"><tspan x=\"309.35921676911454\" y=\"-309.35921676911454\" dy=\"0.35em\">Brand</tspan></text></g><g class=\"axis\"><line x1=\"0\" y1=\"0\" x2=\"385.00000000000006\" y2=\"0\" class=\"line\" style=\"stroke: white; stroke-width: 2px;\"></line><text class=\"legend\" style=\"font-size: 11px;\" text-anchor=\"middle\" dy=\"0.35em\" x=\"437.5\" y=\"0\"><tspan x=\"437.5\" y=\"0\" dy=\"0.35em\">Contract Cost</tspan></text></g><g class=\"axis\"><line x1=\"0\" y1=\"0\" x2=\"272.23611075682084\" y2=\"272.23611075682084\" class=\"line\" style=\"stroke: white; stroke-width: 2px;\"></line><text class=\"legend\" style=\"font-size: 11px;\" text-anchor=\"middle\" dy=\"0.35em\" x=\"309.35921676911454\" y=\"309.35921676911454\"><tspan x=\"309.35921676911454\" y=\"309.35921676911454\" dy=\"0.35em\">Design And Quality</tspan></text></g><g class=\"axis\"><line x1=\"0\" y1=\"0\" x2=\"2.3574450883586554e-14\" y2=\"385.00000000000006\" class=\"line\" style=\"stroke: white; stroke-width: 2px;\"></line><text class=\"legend\" style=\"font-size: 11px;\" text-anchor=\"middle\" dy=\"0.35em\" x=\"2.678914873134835e-14\" y=\"437.5\"><tspan x=\"2.678914873134835e-14\" y=\"437.5\" dy=\"0.35em\">Have Internet Connectivity</tspan></text></g><g class=\"axis\"><line x1=\"0\" y1=\"0\" x2=\"-272.23611075682084\" y2=\"272.23611075682084\" class=\"line\" style=\"stroke: white; stroke-width: 2px;\"></line><text class=\"legend\" style=\"font-size: 11px;\" text-anchor=\"middle\" dy=\"0.35em\" x=\"-309.35921676911454\" y=\"309.35921676911454\"><tspan x=\"-309.35921676911454\" y=\"309.35921676911454\" dy=\"0.35em\">Large Screen</tspan></text></g><g class=\"axis\"><line x1=\"0\" y1=\"0\" x2=\"-385.00000000000006\" y2=\"4.714890176717311e-14\" class=\"line\" style=\"stroke: white; stroke-width: 2px;\"></line><text class=\"legend\" style=\"font-size: 11px;\" text-anchor=\"middle\" dy=\"0.35em\" x=\"-437.5\" y=\"5.35782974626967e-14\"><tspan x=\"-437.5\" y=\"5.35782974626967e-14\" dy=\"0.35em\">Price Of Device</tspan></text></g><g class=\"axis\"><line x1=\"0\" y1=\"0\" x2=\"-272.2361107568209\" y2=\"-272.23611075682084\" class=\"line\" style=\"stroke: white; stroke-width: 2px;\"></line><text class=\"legend\" style=\"font-size: 11px;\" text-anchor=\"middle\" dy=\"0.35em\" x=\"-309.3592167691146\" y=\"-309.35921676911454\"><tspan x=\"-309.3592167691146\" y=\"-309.35921676911454\" dy=\"0.35em\">To Be A Smartphone</tspan></text></g></g><g class=\"radarWrapper\"><path class=\"radarArea\" d=\"M0,-154L138.59292911256333,-138.59292911256335L203,-1.2430165011345635e-14L84.14570696119917,84.14570696119915L1.8859560706869238e-14,154L-9.899494936611664,9.899494936611667L-147,2.7003461921199135e-14L-247.4873734152917,-247.4873734152916Z\" style=\"fill: #1f77b4; fill-opacity: 0.35;\"></path><path class=\"radarStroke\" d=\"M0,-154L138.59292911256333,-138.59292911256335L203,-1.2430165011345635e-14L84.14570696119917,84.14570696119915L1.8859560706869238e-14,154L-9.899494936611664,9.899494936611667L-147,2.7003461921199135e-14L-247.4873734152917,-247.4873734152916Z\" style=\"stroke-width: 2px; stroke: #1f77b4; fill: none; filter: url(#glow);\"></path><circle class=\"radarCircle\" r=\"4\" cx=\"9.429780353434619e-15\" cy=\"-154\" style=\"fill: #d62728; fill-opacity: 0.8;\"></circle><circle class=\"radarCircle\" r=\"4\" cx=\"138.59292911256335\" cy=\"-138.59292911256333\" style=\"fill: #d62728; fill-opacity: 0.8;\"></circle><circle class=\"radarCircle\" r=\"4\" cx=\"203\" cy=\"0\" style=\"fill: #d62728; fill-opacity: 0.8;\"></circle><circle class=\"radarCircle\" r=\"4\" cx=\"84.14570696119917\" cy=\"84.14570696119915\" style=\"fill: #d62728; fill-opacity: 0.8;\"></circle><circle class=\"radarCircle\" r=\"4\" cx=\"9.429780353434619e-15\" cy=\"154\" style=\"fill: #d62728; fill-opacity: 0.8;\"></circle><circle class=\"radarCircle\" r=\"4\" cx=\"-9.899494936611664\" cy=\"9.899494936611665\" style=\"fill: #d62728; fill-opacity: 0.8;\"></circle><circle class=\"radarCircle\" r=\"4\" cx=\"-147\" cy=\"1.8002307947466092e-14\" style=\"fill: #d62728; fill-opacity: 0.8;\"></circle><circle class=\"radarCircle\" r=\"4\" cx=\"-247.4873734152917\" cy=\"-247.48737341529161\" style=\"fill: #d62728; fill-opacity: 0.8;\"></circle></g><g class=\"radarWrapper\"><path class=\"radarArea\" d=\"M0,-189L79.19595949289331,-79.19595949289332L244.99999999999997,-1.5001923289555075e-14L64.34671708797583,64.34671708797582L1.7145055188062946e-14,140L-64.34671708797582,64.34671708797583L-244.99999999999997,4.5005769868665224e-14L-188.09040379562168,-188.0904037956216Z\" style=\"fill: #ff7f0e; fill-opacity: 0.35;\"></path><path class=\"radarStroke\" d=\"M0,-189L79.19595949289331,-79.19595949289332L244.99999999999997,-1.5001923289555075e-14L64.34671708797583,64.34671708797582L1.7145055188062946e-14,140L-64.34671708797582,64.34671708797583L-244.99999999999997,4.5005769868665224e-14L-188.09040379562168,-188.0904037956216Z\" style=\"stroke-width: 2px; stroke: #ff7f0e; fill: none; filter: url(#glow);\"></path><circle class=\"radarCircle\" r=\"4\" cx=\"1.1572912251942487e-14\" cy=\"-189\" style=\"fill: #d62728; fill-opacity: 0.8;\"></circle><circle class=\"radarCircle\" r=\"4\" cx=\"79.19595949289332\" cy=\"-79.19595949289331\" style=\"fill: #d62728; fill-opacity: 0.8;\"></circle><circle class=\"radarCircle\" r=\"4\" cx=\"244.99999999999997\" cy=\"0\" style=\"fill: #d62728; fill-opacity: 0.8;\"></circle><circle class=\"radarCircle\" r=\"4\" cx=\"64.34671708797583\" cy=\"64.34671708797582\" style=\"fill: #d62728; fill-opacity: 0.8;\"></circle><circle class=\"radarCircle\" r=\"4\" cx=\"8.572527594031473e-15\" cy=\"140\" style=\"fill: #d62728; fill-opacity: 0.8;\"></circle><circle class=\"radarCircle\" r=\"4\" cx=\"-64.34671708797582\" cy=\"64.34671708797583\" style=\"fill: #d62728; fill-opacity: 0.8;\"></circle><circle class=\"radarCircle\" r=\"4\" cx=\"-244.99999999999997\" cy=\"3.000384657911015e-14\" style=\"fill: #d62728; fill-opacity: 0.8;\"></circle><circle class=\"radarCircle\" r=\"4\" cx=\"-188.09040379562168\" cy=\"-188.09040379562163\" style=\"fill: #d62728; fill-opacity: 0.8;\"></circle></g><g class=\"radarWrapper\"><path class=\"radarArea\" d=\"M0,-182L49.49747468305832,-49.49747468305833L210,-1.2858791391047208e-14L69.29646455628168,69.29646455628166L1.8859560706869238e-14,154L-19.798989873223327,19.798989873223334L-287,5.272104470329355e-14L-148.492424049175,-148.49242404917496Z\" style=\"fill: #2ca02c; fill-opacity: 0.35;\"></path><path class=\"radarStroke\" d=\"M0,-182L49.49747468305832,-49.49747468305833L210,-1.2858791391047208e-14L69.29646455628168,69.29646455628166L1.8859560706869238e-14,154L-19.798989873223327,19.798989873223334L-287,5.272104470329355e-14L-148.492424049175,-148.49242404917496Z\" style=\"stroke-width: 2px; stroke: #2ca02c; fill: none; filter: url(#glow);\"></path><circle class=\"radarCircle\" r=\"4\" cx=\"1.1144285872240914e-14\" cy=\"-182\" style=\"fill: #d62728; fill-opacity: 0.8;\"></circle><circle class=\"radarCircle\" r=\"4\" cx=\"49.49747468305833\" cy=\"-49.49747468305832\" style=\"fill: #d62728; fill-opacity: 0.8;\"></circle><circle class=\"radarCircle\" r=\"4\" cx=\"210\" cy=\"0\" style=\"fill: #d62728; fill-opacity: 0.8;\"></circle><circle class=\"radarCircle\" r=\"4\" cx=\"69.29646455628168\" cy=\"69.29646455628166\" style=\"fill: #d62728; fill-opacity: 0.8;\"></circle><circle class=\"radarCircle\" r=\"4\" cx=\"9.429780353434619e-15\" cy=\"154\" style=\"fill: #d62728; fill-opacity: 0.8;\"></circle><circle class=\"radarCircle\" r=\"4\" cx=\"-19.798989873223327\" cy=\"19.79898987322333\" style=\"fill: #d62728; fill-opacity: 0.8;\"></circle><circle class=\"radarCircle\" r=\"4\" cx=\"-287\" cy=\"3.514736313552904e-14\" style=\"fill: #d62728; fill-opacity: 0.8;\"></circle><circle class=\"radarCircle\" r=\"4\" cx=\"-148.492424049175\" cy=\"-148.49242404917496\" style=\"fill: #d62728; fill-opacity: 0.8;\"></circle></g><g class=\"radarCircleWrapper\"><circle class=\"radarInvisibleCircle\" r=\"6\" cx=\"9.429780353434619e-15\" cy=\"-154\" style=\"fill: none; pointer-events: all;\"></circle><circle class=\"radarInvisibleCircle\" r=\"6\" cx=\"138.59292911256335\" cy=\"-138.59292911256333\" style=\"fill: none; pointer-events: all;\"></circle><circle class=\"radarInvisibleCircle\" r=\"6\" cx=\"203\" cy=\"0\" style=\"fill: none; pointer-events: all;\"></circle><circle class=\"radarInvisibleCircle\" r=\"6\" cx=\"84.14570696119917\" cy=\"84.14570696119915\" style=\"fill: none; pointer-events: all;\"></circle><circle class=\"radarInvisibleCircle\" r=\"6\" cx=\"9.429780353434619e-15\" cy=\"154\" style=\"fill: none; pointer-events: all;\"></circle><circle class=\"radarInvisibleCircle\" r=\"6\" cx=\"-9.899494936611664\" cy=\"9.899494936611665\" style=\"fill: none; pointer-events: all;\"></circle><circle class=\"radarInvisibleCircle\" r=\"6\" cx=\"-147\" cy=\"1.8002307947466092e-14\" style=\"fill: none; pointer-events: all;\"></circle><circle class=\"radarInvisibleCircle\" r=\"6\" cx=\"-247.4873734152917\" cy=\"-247.48737341529161\" style=\"fill: none; pointer-events: all;\"></circle></g><g class=\"radarCircleWrapper\"><circle class=\"radarInvisibleCircle\" r=\"6\" cx=\"1.1572912251942487e-14\" cy=\"-189\" style=\"fill: none; pointer-events: all;\"></circle><circle class=\"radarInvisibleCircle\" r=\"6\" cx=\"79.19595949289332\" cy=\"-79.19595949289331\" style=\"fill: none; pointer-events: all;\"></circle><circle class=\"radarInvisibleCircle\" r=\"6\" cx=\"244.99999999999997\" cy=\"0\" style=\"fill: none; pointer-events: all;\"></circle><circle class=\"radarInvisibleCircle\" r=\"6\" cx=\"64.34671708797583\" cy=\"64.34671708797582\" style=\"fill: none; pointer-events: all;\"></circle><circle class=\"radarInvisibleCircle\" r=\"6\" cx=\"8.572527594031473e-15\" cy=\"140\" style=\"fill: none; pointer-events: all;\"></circle><circle class=\"radarInvisibleCircle\" r=\"6\" cx=\"-64.34671708797582\" cy=\"64.34671708797583\" style=\"fill: none; pointer-events: all;\"></circle><circle class=\"radarInvisibleCircle\" r=\"6\" cx=\"-244.99999999999997\" cy=\"3.000384657911015e-14\" style=\"fill: none; pointer-events: all;\"></circle><circle class=\"radarInvisibleCircle\" r=\"6\" cx=\"-188.09040379562168\" cy=\"-188.09040379562163\" style=\"fill: none; pointer-events: all;\"></circle></g><g class=\"radarCircleWrapper\"><circle class=\"radarInvisibleCircle\" r=\"6\" cx=\"1.1144285872240914e-14\" cy=\"-182\" style=\"fill: none; pointer-events: all;\"></circle><circle class=\"radarInvisibleCircle\" r=\"6\" cx=\"49.49747468305833\" cy=\"-49.49747468305832\" style=\"fill: none; pointer-events: all;\"></circle><circle class=\"radarInvisibleCircle\" r=\"6\" cx=\"210\" cy=\"0\" style=\"fill: none; pointer-events: all;\"></circle><circle class=\"radarInvisibleCircle\" r=\"6\" cx=\"69.29646455628168\" cy=\"69.29646455628166\" style=\"fill: none; pointer-events: all;\"></circle><circle class=\"radarInvisibleCircle\" r=\"6\" cx=\"9.429780353434619e-15\" cy=\"154\" style=\"fill: none; pointer-events: all;\"></circle><circle class=\"radarInvisibleCircle\" r=\"6\" cx=\"-19.798989873223327\" cy=\"19.79898987322333\" style=\"fill: none; pointer-events: all;\"></circle><circle class=\"radarInvisibleCircle\" r=\"6\" cx=\"-287\" cy=\"3.514736313552904e-14\" style=\"fill: none; pointer-events: all;\"></circle><circle class=\"radarInvisibleCircle\" r=\"6\" cx=\"-148.492424049175\" cy=\"-148.49242404917496\" style=\"fill: none; pointer-events: all;\"></circle></g><text class=\"tooltip\" style=\"opacity: 0;\"></text></g></svg></div></body>"
      ]
     },
     "execution_count": 243,
     "metadata": {},
     "output_type": "execute_result"
    }
   ],
   "source": [
    "$$.html(site())"
   ]
  },
  {
   "cell_type": "code",
   "execution_count": 231,
   "metadata": {},
   "outputs": [
    {
     "data": {
      "text/plain": [
       "[Function: methods]"
      ]
     },
     "execution_count": 231,
     "metadata": {},
     "output_type": "execute_result"
    }
   ],
   "source": [
    "methods = (obj) => {\n",
    "    var result = [];\n",
    "    do {\n",
    "      result.push(...Object.getOwnPropertyNames(obj))\n",
    "    } while ((obj = Object.getPrototypeOf(obj)))\n",
    "    \n",
    "    return result.join(', ');\n",
    "}"
   ]
  },
  {
   "cell_type": "code",
   "execution_count": 232,
   "metadata": {},
   "outputs": [
    {
     "data": {
      "text/plain": [
       "'__data__, constructor, focus, blur, className, dataset, ownerSVGElement, viewportElement, tabIndex, style, onabort, onauxclick, onblur, oncancel, oncanplay, oncanplaythrough, onchange, onclick, onclose, oncontextmenu, oncuechange, ondblclick, ondrag, ondragend, ondragenter, ondragexit, ondragleave, ondragover, ondragstart, ondrop, ondurationchange, onemptied, onended, onerror, onfocus, oninput, oninvalid, onkeydown, onkeypress, onkeyup, onload, onloadeddata, onloadedmetadata, onloadend, onloadstart, onmousedown, onmouseenter, onmouseleave, onmousemove, onmouseout, onmouseover, onmouseup, onwheel, onpause, onplay, onplaying, onprogress, onratechange, onreset, onresize, onscroll, onseeked, onseeking, onselect, onshow, onstalled, onsubmit, onsuspend, ontimeupdate, ontoggle, onvolumechange, onwaiting, constructor, hasAttributes, getAttributeNames, getAttribute, getAttributeNS, setAttribute, setAttributeNS, removeAttribute, removeAttributeNS, hasAttribute, hasAttributeNS, getAttributeNode, getAttributeNodeNS, setAttributeNode, setAttributeNodeNS, removeAttributeNode, matches, webkitMatchesSelector, getElementsByTagName, getElementsByTagNameNS, getElementsByClassName, insertAdjacentHTML, getClientRects, getBoundingClientRect, before, after, replaceWith, remove, prepend, append, querySelector, querySelectorAll, namespaceURI, prefix, localName, tagName, id, className, classList, attributes, innerHTML, outerHTML, scrollTop, scrollLeft, scrollWidth, scrollHeight, clientTop, clientLeft, clientWidth, clientHeight, previousElementSibling, nextElementSibling, children, firstElementChild, lastElementChild, childElementCount, getComputedTextLength, constructor, hasChildNodes, normalize, cloneNode, isEqualNode, isSameNode, compareDocumentPosition, contains, insertBefore, appendChild, replaceChild, removeChild, nodeType, nodeName, baseURI, isConnected, ownerDocument, parentNode, parentElement, childNodes, firstChild, lastChild, previousSibling, nextSibling, nodeValue, textContent, ELEMENT_NODE, ATTRIBUTE_NODE, TEXT_NODE, CDATA_SECTION_NODE, ENTITY_REFERENCE_NODE, ENTITY_NODE, PROCESSING_INSTRUCTION_NODE, COMMENT_NODE, DOCUMENT_NODE, DOCUMENT_TYPE_NODE, DOCUMENT_FRAGMENT_NODE, NOTATION_NODE, DOCUMENT_POSITION_DISCONNECTED, DOCUMENT_POSITION_PRECEDING, DOCUMENT_POSITION_FOLLOWING, DOCUMENT_POSITION_CONTAINS, DOCUMENT_POSITION_CONTAINED_BY, DOCUMENT_POSITION_IMPLEMENTATION_SPECIFIC, constructor, addEventListener, removeEventListener, dispatchEvent, constructor, __defineGetter__, __defineSetter__, hasOwnProperty, __lookupGetter__, __lookupSetter__, isPrototypeOf, propertyIsEnumerable, toString, valueOf, __proto__, toLocaleString'"
      ]
     },
     "execution_count": 232,
     "metadata": {},
     "output_type": "execute_result"
    }
   ],
   "source": [
    "methods(document.querySelector('text'))"
   ]
  },
  {
   "cell_type": "code",
   "execution_count": 233,
   "metadata": {},
   "outputs": [
    {
     "data": {
      "text/plain": [
       "'<head></head><body><div id=\"chart\"><svg width=\"640\" height=\"640\" class=\"radar#chart\"><g transform=\"translate(320,320)\"><defs><filter id=\"glow\"><fegaussianblur stdDeviation=\"2.5\" result=\"coloredBlur\"></fegaussianblur><femerge><femergenode in=\"coloredBlur\"></femergenode><femergenode in=\"SourceGraphic\"></femergenode></femerge></filter></defs><g class=\"axisWrapper\"><circle class=\"gridCircle\" r=\"300\" style=\"fill: #CDCDCD; stroke: #CDCDCD; fill-opacity: 0.1; filter: url(#glow);\"></circle><circle class=\"gridCircle\" r=\"200\" style=\"fill: #CDCDCD; stroke: #CDCDCD; fill-opacity: 0.1; filter: url(#glow);\"></circle><circle class=\"gridCircle\" r=\"100\" style=\"fill: #CDCDCD; stroke: #CDCDCD; fill-opacity: 0.1; filter: url(#glow);\"></circle><text class=\"axisLabel\" x=\"4\" y=\"-300\" dy=\"0.4em\" style=\"font-size: 10px;\" fill=\"#737373\">50.000000%</text><text class=\"axisLabel\" x=\"4\" y=\"-200\" dy=\"0.4em\" style=\"font-size: 10px;\" fill=\"#737373\">33.333333%</text><text class=\"axisLabel\" x=\"4\" y=\"-100\" dy=\"0.4em\" style=\"font-size: 10px;\" fill=\"#737373\">16.666667%</text><g class=\"axis\"><line x1=\"0\" y1=\"0\" x2=\"2.0206672185931328e-14\" y2=\"-330\" class=\"line\" style=\"stroke: white; stroke-width: 2px;\"></line><text class=\"legend\" style=\"font-size: 11px;\" text-anchor=\"middle\" dy=\"0.35em\" x=\"2.2962127484012872e-14\" y=\"-375\"><tspan x=\"2.2962127484012872e-14\" y=\"-375\" dy=\"0.35em\"></tspan><tspan x=\"2.2962127484012872e-14\" y=\"-375\" dy=\"1.75em\">Battery</tspan><tspan x=\"2.2962127484012872e-14\" y=\"-375\" dy=\"3.15em\">Life</tspan></text></g><g class=\"axis\"><line x1=\"0\" y1=\"0\" x2=\"233.3452377915607\" y2=\"-233.34523779156066\" class=\"line\" style=\"stroke: white; stroke-width: 2px;\"></line><text class=\"legend\" style=\"font-size: 11px;\" text-anchor=\"middle\" dy=\"0.35em\" x=\"265.16504294495536\" y=\"-265.1650429449553\"><tspan x=\"265.16504294495536\" y=\"-265.1650429449553\" dy=\"0.35em\"></tspan><tspan x=\"265.16504294495536\" y=\"-265.1650429449553\" dy=\"1.75em\">Brand</tspan></text></g><g class=\"axis\"><line x1=\"0\" y1=\"0\" x2=\"330\" y2=\"0\" class=\"line\" style=\"stroke: white; stroke-width: 2px;\"></line><text class=\"legend\" style=\"font-size: 11px;\" text-anchor=\"middle\" dy=\"0.35em\" x=\"375\" y=\"0\"><tspan x=\"375\" y=\"0\" dy=\"0.35em\"></tspan><tspan x=\"375\" y=\"0\" dy=\"1.75em\">Contract</tspan><tspan x=\"375\" y=\"0\" dy=\"3.15em\">Cost</tspan></text></g><g class=\"axis\"><line x1=\"0\" y1=\"0\" x2=\"233.3452377915607\" y2=\"233.34523779156066\" class=\"line\" style=\"stroke: white; stroke-width: 2px;\"></line><text class=\"legend\" style=\"font-size: 11px;\" text-anchor=\"middle\" dy=\"0.35em\" x=\"265.16504294495536\" y=\"265.1650429449553\"><tspan x=\"265.16504294495536\" y=\"265.1650429449553\" dy=\"0.35em\"></tspan><tspan x=\"265.16504294495536\" y=\"265.1650429449553\" dy=\"1.75em\">Design</tspan><tspan x=\"265.16504294495536\" y=\"265.1650429449553\" dy=\"3.15em\">And</tspan><tspan x=\"265.16504294495536\" y=\"265.1650429449553\" dy=\"4.549999999999999em\">Quality</tspan></text></g><g class=\"axis\"><line x1=\"0\" y1=\"0\" x2=\"2.0206672185931328e-14\" y2=\"330\" class=\"line\" style=\"stroke: white; stroke-width: 2px;\"></line><text class=\"legend\" style=\"font-size: 11px;\" text-anchor=\"middle\" dy=\"0.35em\" x=\"2.2962127484012872e-14\" y=\"375\"><tspan x=\"2.2962127484012872e-14\" y=\"375\" dy=\"0.35em\"></tspan><tspan x=\"2.2962127484012872e-14\" y=\"375\" dy=\"1.75em\">Have</tspan><tspan x=\"2.2962127484012872e-14\" y=\"375\" dy=\"3.15em\">Internet</tspan><tspan x=\"2.2962127484012872e-14\" y=\"375\" dy=\"4.549999999999999em\">Connectivity</tspan></text></g><g class=\"axis\"><line x1=\"0\" y1=\"0\" x2=\"-233.34523779156066\" y2=\"233.3452377915607\" class=\"line\" style=\"stroke: white; stroke-width: 2px;\"></line><text class=\"legend\" style=\"font-size: 11px;\" text-anchor=\"middle\" dy=\"0.35em\" x=\"-265.1650429449553\" y=\"265.16504294495536\"><tspan x=\"-265.1650429449553\" y=\"265.16504294495536\" dy=\"0.35em\"></tspan><tspan x=\"-265.1650429449553\" y=\"265.16504294495536\" dy=\"1.75em\">Large</tspan><tspan x=\"-265.1650429449553\" y=\"265.16504294495536\" dy=\"3.15em\">Screen</tspan></text></g><g class=\"axis\"><line x1=\"0\" y1=\"0\" x2=\"-330\" y2=\"4.0413344371862656e-14\" class=\"line\" style=\"stroke: white; stroke-width: 2px;\"></line><text class=\"legend\" style=\"font-size: 11px;\" text-anchor=\"middle\" dy=\"0.35em\" x=\"-375\" y=\"4.5924254968025744e-14\"><tspan x=\"-375\" y=\"4.5924254968025744e-14\" dy=\"0.35em\"></tspan><tspan x=\"-375\" y=\"4.5924254968025744e-14\" dy=\"1.75em\">Price</tspan><tspan x=\"-375\" y=\"4.5924254968025744e-14\" dy=\"3.15em\">Of</tspan><tspan x=\"-375\" y=\"4.5924254968025744e-14\" dy=\"4.549999999999999em\">Device</tspan></text></g><g class=\"axis\"><line x1=\"0\" y1=\"0\" x2=\"-233.34523779156075\" y2=\"-233.34523779156066\" class=\"line\" style=\"stroke: white; stroke-width: 2px;\"></line><text class=\"legend\" style=\"font-size: 11px;\" text-anchor=\"middle\" dy=\"0.35em\" x=\"-265.16504294495536\" y=\"-265.1650429449553\"><tspan x=\"-265.16504294495536\" y=\"-265.1650429449553\" dy=\"0.35em\"></tspan><tspan x=\"-265.16504294495536\" y=\"-265.1650429449553\" dy=\"1.75em\">To</tspan><tspan x=\"-265.16504294495536\" y=\"-265.1650429449553\" dy=\"3.15em\">Be</tspan><tspan x=\"-265.16504294495536\" y=\"-265.1650429449553\" dy=\"4.549999999999999em\">A</tspan><tspan x=\"-265.16504294495536\" y=\"-265.1650429449553\" dy=\"5.949999999999999em\">Smartphone</tspan></text></g></g><g class=\"radarWrapper\"><path class=\"radarArea\" d=\"M0,-132L118.79393923933999,-118.79393923934L174,-1.0654427152581974e-14L72.12489168102786,72.12489168102785L1.6165337748745062e-14,132L-8.48528137423857,8.485281374238571L-126,2.3145824503884975e-14L-212.1320343559643,-212.1320343559642Z\" style=\"fill: #1f77b4; fill-opacity: 0.35;\"></path><path class=\"radarStroke\" d=\"M0,-132L118.79393923933999,-118.79393923934L174,-1.0654427152581974e-14L72.12489168102786,72.12489168102785L1.6165337748745062e-14,132L-8.48528137423857,8.485281374238571L-126,2.3145824503884975e-14L-212.1320343559643,-212.1320343559642Z\" style=\"stroke-width: 2px; stroke: #1f77b4; fill: none; filter: url(#glow);\"></path><circle class=\"radarCircle\" r=\"4\" cx=\"8.082668874372531e-15\" cy=\"-132\" style=\"fill: #d62728; fill-opacity: 0.8;\"></circle><circle class=\"radarCircle\" r=\"4\" cx=\"118.79393923934\" cy=\"-118.79393923933999\" style=\"fill: #d62728; fill-opacity: 0.8;\"></circle><circle class=\"radarCircle\" r=\"4\" cx=\"174\" cy=\"0\" style=\"fill: #d62728; fill-opacity: 0.8;\"></circle><circle class=\"radarCircle\" r=\"4\" cx=\"72.12489168102786\" cy=\"72.12489168102785\" style=\"fill: #d62728; fill-opacity: 0.8;\"></circle><circle class=\"radarCircle\" r=\"4\" cx=\"8.082668874372531e-15\" cy=\"132\" style=\"fill: #d62728; fill-opacity: 0.8;\"></circle><circle class=\"radarCircle\" r=\"4\" cx=\"-8.48528137423857\" cy=\"8.485281374238571\" style=\"fill: #d62728; fill-opacity: 0.8;\"></circle><circle class=\"radarCircle\" r=\"4\" cx=\"-126\" cy=\"1.543054966925665e-14\" style=\"fill: #d62728; fill-opacity: 0.8;\"></circle><circle class=\"radarCircle\" r=\"4\" cx=\"-212.1320343559643\" cy=\"-212.13203435596424\" style=\"fill: #d62728; fill-opacity: 0.8;\"></circle></g><g class=\"radarWrapper\"><path class=\"radarArea\" d=\"M0,-162L67.88225099390856,-67.88225099390857L210,-1.2858791391047208e-14L55.15432893255071,55.154328932550705L1.469576158976824e-14,120L-55.154328932550705,55.15432893255072L-210,3.857637417314162e-14L-161.22034611053286,-161.2203461105328Z\" style=\"fill: #ff7f0e; fill-opacity: 0.35;\"></path><path class=\"radarStroke\" d=\"M0,-162L67.88225099390856,-67.88225099390857L210,-1.2858791391047208e-14L55.15432893255071,55.154328932550705L1.469576158976824e-14,120L-55.154328932550705,55.15432893255072L-210,3.857637417314162e-14L-161.22034611053286,-161.2203461105328Z\" style=\"stroke-width: 2px; stroke: #ff7f0e; fill: none; filter: url(#glow);\"></path><circle class=\"radarCircle\" r=\"4\" cx=\"9.919639073093561e-15\" cy=\"-162\" style=\"fill: #d62728; fill-opacity: 0.8;\"></circle><circle class=\"radarCircle\" r=\"4\" cx=\"67.88225099390857\" cy=\"-67.88225099390856\" style=\"fill: #d62728; fill-opacity: 0.8;\"></circle><circle class=\"radarCircle\" r=\"4\" cx=\"210\" cy=\"0\" style=\"fill: #d62728; fill-opacity: 0.8;\"></circle><circle class=\"radarCircle\" r=\"4\" cx=\"55.15432893255071\" cy=\"55.154328932550705\" style=\"fill: #d62728; fill-opacity: 0.8;\"></circle><circle class=\"radarCircle\" r=\"4\" cx=\"7.34788079488412e-15\" cy=\"120\" style=\"fill: #d62728; fill-opacity: 0.8;\"></circle><circle class=\"radarCircle\" r=\"4\" cx=\"-55.154328932550705\" cy=\"55.15432893255071\" style=\"fill: #d62728; fill-opacity: 0.8;\"></circle><circle class=\"radarCircle\" r=\"4\" cx=\"-210\" cy=\"2.5717582782094416e-14\" style=\"fill: #d62728; fill-opacity: 0.8;\"></circle><circle class=\"radarCircle\" r=\"4\" cx=\"-161.22034611053286\" cy=\"-161.22034611053283\" style=\"fill: #d62728; fill-opacity: 0.8;\"></circle></g><g class=\"radarWrapper\"><path class=\"radarArea\" d=\"M0,-156L42.426406871192846,-42.42640687119285L180,-1.1021821192326179e-14L59.39696961967,59.396969619669996L1.6165337748745062e-14,132L-16.97056274847714,16.970562748477143L-245.99999999999997,4.5189466888537326e-14L-127.27922061357859,-127.27922061357852Z\" style=\"fill: #2ca02c; fill-opacity: 0.35;\"></path><path class=\"radarStroke\" d=\"M0,-156L42.426406871192846,-42.42640687119285L180,-1.1021821192326179e-14L59.39696961967,59.396969619669996L1.6165337748745062e-14,132L-16.97056274847714,16.970562748477143L-245.99999999999997,4.5189466888537326e-14L-127.27922061357859,-127.27922061357852Z\" style=\"stroke-width: 2px; stroke: #2ca02c; fill: none; filter: url(#glow);\"></path><circle class=\"radarCircle\" r=\"4\" cx=\"9.552245033349356e-15\" cy=\"-156\" style=\"fill: #d62728; fill-opacity: 0.8;\"></circle><circle class=\"radarCircle\" r=\"4\" cx=\"42.42640687119285\" cy=\"-42.426406871192846\" style=\"fill: #d62728; fill-opacity: 0.8;\"></circle><circle class=\"radarCircle\" r=\"4\" cx=\"180\" cy=\"0\" style=\"fill: #d62728; fill-opacity: 0.8;\"></circle><circle class=\"radarCircle\" r=\"4\" cx=\"59.39696961967\" cy=\"59.396969619669996\" style=\"fill: #d62728; fill-opacity: 0.8;\"></circle><circle class=\"radarCircle\" r=\"4\" cx=\"8.082668874372531e-15\" cy=\"132\" style=\"fill: #d62728; fill-opacity: 0.8;\"></circle><circle class=\"radarCircle\" r=\"4\" cx=\"-16.97056274847714\" cy=\"16.970562748477143\" style=\"fill: #d62728; fill-opacity: 0.8;\"></circle><circle class=\"radarCircle\" r=\"4\" cx=\"-245.99999999999997\" cy=\"3.0126311259024884e-14\" style=\"fill: #d62728; fill-opacity: 0.8;\"></circle><circle class=\"radarCircle\" r=\"4\" cx=\"-127.27922061357859\" cy=\"-127.27922061357854\" style=\"fill: #d62728; fill-opacity: 0.8;\"></circle></g><g class=\"radarCircleWrapper\"><circle class=\"radarInvisibleCircle\" r=\"6\" cx=\"8.082668874372531e-15\" cy=\"-132\" style=\"fill: none; pointer-events: all;\"></circle><circle class=\"radarInvisibleCircle\" r=\"6\" cx=\"118.79393923934\" cy=\"-118.79393923933999\" style=\"fill: none; pointer-events: all;\"></circle><circle class=\"radarInvisibleCircle\" r=\"6\" cx=\"174\" cy=\"0\" style=\"fill: none; pointer-events: all;\"></circle><circle class=\"radarInvisibleCircle\" r=\"6\" cx=\"72.12489168102786\" cy=\"72.12489168102785\" style=\"fill: none; pointer-events: all;\"></circle><circle class=\"radarInvisibleCircle\" r=\"6\" cx=\"8.082668874372531e-15\" cy=\"132\" style=\"fill: none; pointer-events: all;\"></circle><circle class=\"radarInvisibleCircle\" r=\"6\" cx=\"-8.48528137423857\" cy=\"8.485281374238571\" style=\"fill: none; pointer-events: all;\"></circle><circle class=\"radarInvisibleCircle\" r=\"6\" cx=\"-126\" cy=\"1.543054966925665e-14\" style=\"fill: none; pointer-events: all;\"></circle><circle class=\"radarInvisibleCircle\" r=\"6\" cx=\"-212.1320343559643\" cy=\"-212.13203435596424\" style=\"fill: none; pointer-events: all;\"></circle></g><g class=\"radarCircleWrapper\"><circle class=\"radarInvisibleCircle\" r=\"6\" cx=\"9.919639073093561e-15\" cy=\"-162\" style=\"fill: none; pointer-events: all;\"></circle><circle class=\"radarInvisibleCircle\" r=\"6\" cx=\"67.88225099390857\" cy=\"-67.88225099390856\" style=\"fill: none; pointer-events: all;\"></circle><circle class=\"radarInvisibleCircle\" r=\"6\" cx=\"210\" cy=\"0\" style=\"fill: none; pointer-events: all;\"></circle><circle class=\"radarInvisibleCircle\" r=\"6\" cx=\"55.15432893255071\" cy=\"55.154328932550705\" style=\"fill: none; pointer-events: all;\"></circle><circle class=\"radarInvisibleCircle\" r=\"6\" cx=\"7.34788079488412e-15\" cy=\"120\" style=\"fill: none; pointer-events: all;\"></circle><circle class=\"radarInvisibleCircle\" r=\"6\" cx=\"-55.154328932550705\" cy=\"55.15432893255071\" style=\"fill: none; pointer-events: all;\"></circle><circle class=\"radarInvisibleCircle\" r=\"6\" cx=\"-210\" cy=\"2.5717582782094416e-14\" style=\"fill: none; pointer-events: all;\"></circle><circle class=\"radarInvisibleCircle\" r=\"6\" cx=\"-161.22034611053286\" cy=\"-161.22034611053283\" style=\"fill: none; pointer-events: all;\"></circle></g><g class=\"radarCircleWrapper\"><circle class=\"radarInvisibleCircle\" r=\"6\" cx=\"9.552245033349356e-15\" cy=\"-156\" style=\"fill: none; pointer-events: all;\"></circle><circle class=\"radarInvisibleCircle\" r=\"6\" cx=\"42.42640687119285\" cy=\"-42.426406871192846\" style=\"fill: none; pointer-events: all;\"></circle><circle class=\"radarInvisibleCircle\" r=\"6\" cx=\"180\" cy=\"0\" style=\"fill: none; pointer-events: all;\"></circle><circle class=\"radarInvisibleCircle\" r=\"6\" cx=\"59.39696961967\" cy=\"59.396969619669996\" style=\"fill: none; pointer-events: all;\"></circle><circle class=\"radarInvisibleCircle\" r=\"6\" cx=\"8.082668874372531e-15\" cy=\"132\" style=\"fill: none; pointer-events: all;\"></circle><circle class=\"radarInvisibleCircle\" r=\"6\" cx=\"-16.97056274847714\" cy=\"16.970562748477143\" style=\"fill: none; pointer-events: all;\"></circle><circle class=\"radarInvisibleCircle\" r=\"6\" cx=\"-245.99999999999997\" cy=\"3.0126311259024884e-14\" style=\"fill: none; pointer-events: all;\"></circle><circle class=\"radarInvisibleCircle\" r=\"6\" cx=\"-127.27922061357859\" cy=\"-127.27922061357854\" style=\"fill: none; pointer-events: all;\"></circle></g><text class=\"tooltip\" style=\"opacity: 0;\"></text></g></svg></div></body>'"
      ]
     },
     "execution_count": 233,
     "metadata": {},
     "output_type": "execute_result"
    }
   ],
   "source": [
    "site()"
   ]
  },
  {
   "cell_type": "code",
   "execution_count": null,
   "metadata": {},
   "outputs": [],
   "source": []
  }
 ],
 "metadata": {
  "kernelspec": {
   "display_name": "Javascript (Node.js)",
   "language": "javascript",
   "name": "javascript"
  },
  "language_info": {
   "file_extension": ".js",
   "mimetype": "application/javascript",
   "name": "javascript",
   "version": "8.9.3"
  }
 },
 "nbformat": 4,
 "nbformat_minor": 2
}
